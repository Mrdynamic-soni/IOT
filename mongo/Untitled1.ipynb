{
 "cells": [
  {
   "cell_type": "code",
   "execution_count": 1,
   "id": "likely-surgeon",
   "metadata": {},
   "outputs": [
    {
     "ename": "ModuleNotFoundError",
     "evalue": "No module named 'pymongo'",
     "output_type": "error",
     "traceback": [
      "\u001b[0;31m---------------------------------------------------------------------------\u001b[0m",
      "\u001b[0;31mModuleNotFoundError\u001b[0m                       Traceback (most recent call last)",
      "\u001b[0;32m<ipython-input-1-6b31357d8a8b>\u001b[0m in \u001b[0;36m<module>\u001b[0;34m\u001b[0m\n\u001b[1;32m      1\u001b[0m \u001b[0;31m#requirnments\u001b[0m\u001b[0;34m\u001b[0m\u001b[0;34m\u001b[0m\u001b[0;34m\u001b[0m\u001b[0m\n\u001b[1;32m      2\u001b[0m \u001b[0;32mimport\u001b[0m \u001b[0mjson\u001b[0m\u001b[0;34m\u001b[0m\u001b[0;34m\u001b[0m\u001b[0m\n\u001b[0;32m----> 3\u001b[0;31m \u001b[0;32mimport\u001b[0m \u001b[0mpymongo\u001b[0m\u001b[0;34m\u001b[0m\u001b[0;34m\u001b[0m\u001b[0m\n\u001b[0m\u001b[1;32m      4\u001b[0m \u001b[0;32mfrom\u001b[0m \u001b[0mflask\u001b[0m \u001b[0;32mimport\u001b[0m \u001b[0mFlask\u001b[0m\u001b[0;34m,\u001b[0m\u001b[0mrequest\u001b[0m\u001b[0;34m,\u001b[0m\u001b[0mrender_template\u001b[0m\u001b[0;34m\u001b[0m\u001b[0;34m\u001b[0m\u001b[0m\n\u001b[1;32m      5\u001b[0m \u001b[0;31m#from bson import BSON\u001b[0m\u001b[0;34m\u001b[0m\u001b[0;34m\u001b[0m\u001b[0;34m\u001b[0m\u001b[0m\n",
      "\u001b[0;31mModuleNotFoundError\u001b[0m: No module named 'pymongo'"
     ]
    }
   ],
   "source": [
    "#requirnments \n",
    "import json\n",
    "import pymongo\n",
    "from flask import Flask,request,render_template\n",
    "#from bson import BSON\n",
    "\n",
    "app = Flask(__name__)\n",
    "\n",
    "#connecting to mongodb database\n",
    "client = pymongo.MongoClient(\"mongodb://localhost:27017/new_database\")\n",
    "\n",
    "#creating databse\n",
    "data = client['new_database']\n",
    "\n",
    "#creating list\n",
    "coll = data['new_collection']\n",
    "\n",
    "#getting json data nand sending to mongodb database\n",
    "@app.route(\"/\", methods=['POST'])\n",
    "def insert_document():\n",
    "    req_data = json.dumps(request.get_json())\n",
    "    print(req_data)\n",
    "   \n",
    "    coll.insert_one(request.get_json())\n",
    "    print(\"data aded successfully\")\n",
    "    return \"json posted\"\n",
    "\n",
    "\n",
    "    \n",
    "#running api\n",
    "if __name__ == '__main__':\n",
    "    app.run(host=\"0.0.0.0\",port = 2777)"
   ]
  },
  {
   "cell_type": "code",
   "execution_count": 2,
   "id": "isolated-webster",
   "metadata": {},
   "outputs": [
    {
     "name": "stdout",
     "output_type": "stream",
     "text": [
      "Requirement already satisfied: pymongo in /usr/local/lib/python2.7/dist-packages\n"
     ]
    }
   ],
   "source": [
    "!pip install pymongo\n",
    " "
   ]
  }
 ],
 "metadata": {
  "kernelspec": {
   "display_name": "Python 3",
   "language": "python",
   "name": "python3"
  },
  "language_info": {
   "codemirror_mode": {
    "name": "ipython",
    "version": 3
   },
   "file_extension": ".py",
   "mimetype": "text/x-python",
   "name": "python",
   "nbconvert_exporter": "python",
   "pygments_lexer": "ipython3",
   "version": "3.6.9"
  }
 },
 "nbformat": 4,
 "nbformat_minor": 5
}
